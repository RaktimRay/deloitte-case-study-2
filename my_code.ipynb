{
 "cells": [
  {
   "cell_type": "code",
   "execution_count": null,
   "id": "0734ad3e",
   "metadata": {},
   "outputs": [],
   "source": [
    "import pandas as pd\n",
    "import numpy as np\n",
    "import datetime\n",
    "from faker import Faker\n",
    "import random"
   ]
  },
  {
   "cell_type": "code",
   "execution_count": null,
   "id": "98623c5f",
   "metadata": {},
   "outputs": [],
   "source": [
    "#!pip list"
   ]
  },
  {
   "cell_type": "code",
   "execution_count": null,
   "id": "95456f1a",
   "metadata": {},
   "outputs": [],
   "source": [
    "fake = Faker()"
   ]
  },
  {
   "cell_type": "code",
   "execution_count": null,
   "id": "f076ee0d",
   "metadata": {},
   "outputs": [],
   "source": [
    "fake.name()"
   ]
  },
  {
   "cell_type": "markdown",
   "id": "be99e6b6",
   "metadata": {},
   "source": [
    "**address_list**"
   ]
  },
  {
   "cell_type": "code",
   "execution_count": null,
   "id": "0db4bd8e",
   "metadata": {},
   "outputs": [],
   "source": [
    "address_file = open(\"address.txt\")\n",
    "address = address_file.read()\n",
    "address_list = address.splitlines()\n",
    "#print(address_list)"
   ]
  },
  {
   "cell_type": "markdown",
   "id": "6af35beb",
   "metadata": {},
   "source": [
    "**gender_list**"
   ]
  },
  {
   "cell_type": "code",
   "execution_count": null,
   "id": "aca5a2dd",
   "metadata": {},
   "outputs": [],
   "source": [
    "genders = [\"male\", \"female\"]\n",
    "gender_list = []\n",
    "for G in address_list:\n",
    "    gender_list.append(random.choice(genders))\n",
    "print(\"Length of address_list: \"+str(len(address_list)))\n",
    "print(\"Length of gender_list: \"+str(len(gender_list)))\n",
    "# print(\"gender_list: \")\n",
    "# print(gender_list)"
   ]
  },
  {
   "cell_type": "code",
   "execution_count": null,
   "id": "b522ef0f",
   "metadata": {},
   "outputs": [],
   "source": [
    "random(3)"
   ]
  },
  {
   "cell_type": "code",
   "execution_count": null,
   "id": "b2d6c04a",
   "metadata": {},
   "outputs": [],
   "source": [
    "customer_id_list = []\n",
    "for C_ID in address_list:\n",
    "    customer_id_list.append(random(5))\n",
    "print(\"Length of customer_id_list: \"+str(len(customer_id_list)))"
   ]
  },
  {
   "cell_type": "code",
   "execution_count": null,
   "id": "7fd895a4",
   "metadata": {},
   "outputs": [],
   "source": []
  }
 ],
 "metadata": {
  "kernelspec": {
   "display_name": "Python 3 (ipykernel)",
   "language": "python",
   "name": "python3"
  },
  "language_info": {
   "codemirror_mode": {
    "name": "ipython",
    "version": 3
   },
   "file_extension": ".py",
   "mimetype": "text/x-python",
   "name": "python",
   "nbconvert_exporter": "python",
   "pygments_lexer": "ipython3",
   "version": "3.9.7"
  }
 },
 "nbformat": 4,
 "nbformat_minor": 5
}
