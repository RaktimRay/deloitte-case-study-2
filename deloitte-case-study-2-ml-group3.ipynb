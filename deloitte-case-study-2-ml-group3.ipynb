{
 "cells": [
  {
   "cell_type": "code",
   "execution_count": 50,
   "id": "21657c81",
   "metadata": {},
   "outputs": [],
   "source": [
    "import pandas as pd\n",
    "from sklearn.model_selection import train_test_split\n",
    "from sklearn.linear_model import LinearRegression,Ridge,Lasso\n",
    "from sklearn.metrics import mean_absolute_error,mean_squared_error,r2_score"
   ]
  },
  {
   "cell_type": "code",
   "execution_count": 2,
   "id": "b6a20342",
   "metadata": {},
   "outputs": [],
   "source": [
    "names = ['Customer_id','Gender','Booking_date','Booking_time','Pickup_address','Pickup_time','Drop_time','Drop_address','Cost','Month','Date','Hour']"
   ]
  },
  {
   "cell_type": "code",
   "execution_count": 3,
   "id": "48df93f4",
   "metadata": {},
   "outputs": [],
   "source": [
    "df = pd.read_csv('s3://deloitte-case-study-2-group-3-processed/redshift_downloaded_data/000',delimiter='|',names=names)"
   ]
  },
  {
   "cell_type": "code",
   "execution_count": 4,
   "id": "b0106b30",
   "metadata": {},
   "outputs": [
    {
     "data": {
      "text/html": [
       "<div>\n",
       "<style scoped>\n",
       "    .dataframe tbody tr th:only-of-type {\n",
       "        vertical-align: middle;\n",
       "    }\n",
       "\n",
       "    .dataframe tbody tr th {\n",
       "        vertical-align: top;\n",
       "    }\n",
       "\n",
       "    .dataframe thead th {\n",
       "        text-align: right;\n",
       "    }\n",
       "</style>\n",
       "<table border=\"1\" class=\"dataframe\">\n",
       "  <thead>\n",
       "    <tr style=\"text-align: right;\">\n",
       "      <th></th>\n",
       "      <th>Customer_id</th>\n",
       "      <th>Gender</th>\n",
       "      <th>Booking_date</th>\n",
       "      <th>Booking_time</th>\n",
       "      <th>Pickup_address</th>\n",
       "      <th>Pickup_time</th>\n",
       "      <th>Drop_time</th>\n",
       "      <th>Drop_address</th>\n",
       "      <th>Cost</th>\n",
       "      <th>Month</th>\n",
       "      <th>Date</th>\n",
       "      <th>Hour</th>\n",
       "    </tr>\n",
       "  </thead>\n",
       "  <tbody>\n",
       "    <tr>\n",
       "      <th>0</th>\n",
       "      <td>542</td>\n",
       "      <td>female</td>\n",
       "      <td>2022-04-01</td>\n",
       "      <td>07:33:28.358151</td>\n",
       "      <td>9545 Christopher Forges Apt. 866 New Sarah, SD...</td>\n",
       "      <td>07:38:28.358152</td>\n",
       "      <td>09:02:28.358152</td>\n",
       "      <td>48025 Michael Mountains Suite 257 North Donald...</td>\n",
       "      <td>300</td>\n",
       "      <td>4</td>\n",
       "      <td>1</td>\n",
       "      <td>7</td>\n",
       "    </tr>\n",
       "    <tr>\n",
       "      <th>1</th>\n",
       "      <td>1000</td>\n",
       "      <td>male</td>\n",
       "      <td>2022-04-01</td>\n",
       "      <td>07:33:58.569815</td>\n",
       "      <td>13443 Kristen Meadow Suite 384 New Ashleymouth...</td>\n",
       "      <td>07:39:58.569817</td>\n",
       "      <td>09:29:58.569817</td>\n",
       "      <td>37100 Dominic Ports Suite 903 North Georgeside...</td>\n",
       "      <td>331</td>\n",
       "      <td>4</td>\n",
       "      <td>1</td>\n",
       "      <td>7</td>\n",
       "    </tr>\n",
       "    <tr>\n",
       "      <th>2</th>\n",
       "      <td>733</td>\n",
       "      <td>female</td>\n",
       "      <td>2022-04-01</td>\n",
       "      <td>07:33:48.496508</td>\n",
       "      <td>68374 Anderson Harbor Apt. 037 North Victoriaf...</td>\n",
       "      <td>07:43:48.496510</td>\n",
       "      <td>09:40:48.496510</td>\n",
       "      <td>6109 Mckinney Light Apt. 875 Jamesburgh, DE 04041</td>\n",
       "      <td>385</td>\n",
       "      <td>4</td>\n",
       "      <td>1</td>\n",
       "      <td>7</td>\n",
       "    </tr>\n",
       "    <tr>\n",
       "      <th>3</th>\n",
       "      <td>315</td>\n",
       "      <td>male</td>\n",
       "      <td>2022-04-01</td>\n",
       "      <td>07:33:48.511281</td>\n",
       "      <td>0412 Donna Stravenue Apt. 818 North Timothymou...</td>\n",
       "      <td>07:42:48.511282</td>\n",
       "      <td>09:32:48.511282</td>\n",
       "      <td>894 Cesar Extensions Apt. 008 North Travis, WV...</td>\n",
       "      <td>365</td>\n",
       "      <td>4</td>\n",
       "      <td>1</td>\n",
       "      <td>7</td>\n",
       "    </tr>\n",
       "    <tr>\n",
       "      <th>4</th>\n",
       "      <td>590</td>\n",
       "      <td>female</td>\n",
       "      <td>2022-04-01</td>\n",
       "      <td>07:33:58.594846</td>\n",
       "      <td>657 Melissa Circles Suite 098 New Jamesborough...</td>\n",
       "      <td>07:43:58.594848</td>\n",
       "      <td>08:36:58.594848</td>\n",
       "      <td>47898 Kevin Alley Apt. 703 East Joshuastad, NJ...</td>\n",
       "      <td>213</td>\n",
       "      <td>4</td>\n",
       "      <td>1</td>\n",
       "      <td>7</td>\n",
       "    </tr>\n",
       "  </tbody>\n",
       "</table>\n",
       "</div>"
      ],
      "text/plain": [
       "   Customer_id  Gender Booking_date     Booking_time  \\\n",
       "0          542  female   2022-04-01  07:33:28.358151   \n",
       "1         1000    male   2022-04-01  07:33:58.569815   \n",
       "2          733  female   2022-04-01  07:33:48.496508   \n",
       "3          315    male   2022-04-01  07:33:48.511281   \n",
       "4          590  female   2022-04-01  07:33:58.594846   \n",
       "\n",
       "                                      Pickup_address      Pickup_time  \\\n",
       "0  9545 Christopher Forges Apt. 866 New Sarah, SD...  07:38:28.358152   \n",
       "1  13443 Kristen Meadow Suite 384 New Ashleymouth...  07:39:58.569817   \n",
       "2  68374 Anderson Harbor Apt. 037 North Victoriaf...  07:43:48.496510   \n",
       "3  0412 Donna Stravenue Apt. 818 North Timothymou...  07:42:48.511282   \n",
       "4  657 Melissa Circles Suite 098 New Jamesborough...  07:43:58.594848   \n",
       "\n",
       "         Drop_time                                       Drop_address  Cost  \\\n",
       "0  09:02:28.358152  48025 Michael Mountains Suite 257 North Donald...   300   \n",
       "1  09:29:58.569817  37100 Dominic Ports Suite 903 North Georgeside...   331   \n",
       "2  09:40:48.496510  6109 Mckinney Light Apt. 875 Jamesburgh, DE 04041   385   \n",
       "3  09:32:48.511282  894 Cesar Extensions Apt. 008 North Travis, WV...   365   \n",
       "4  08:36:58.594848  47898 Kevin Alley Apt. 703 East Joshuastad, NJ...   213   \n",
       "\n",
       "   Month  Date  Hour  \n",
       "0      4     1     7  \n",
       "1      4     1     7  \n",
       "2      4     1     7  \n",
       "3      4     1     7  \n",
       "4      4     1     7  "
      ]
     },
     "execution_count": 4,
     "metadata": {},
     "output_type": "execute_result"
    }
   ],
   "source": [
    "df.head()"
   ]
  },
  {
   "cell_type": "code",
   "execution_count": 5,
   "id": "655232ac",
   "metadata": {},
   "outputs": [
    {
     "data": {
      "text/plain": [
       "Customer_id       0\n",
       "Gender            0\n",
       "Booking_date      0\n",
       "Booking_time      0\n",
       "Pickup_address    0\n",
       "Pickup_time       0\n",
       "Drop_time         0\n",
       "Drop_address      0\n",
       "Cost              0\n",
       "Month             0\n",
       "Date              0\n",
       "Hour              0\n",
       "dtype: int64"
      ]
     },
     "execution_count": 5,
     "metadata": {},
     "output_type": "execute_result"
    }
   ],
   "source": [
    "df.isnull().sum()"
   ]
  },
  {
   "cell_type": "code",
   "execution_count": 6,
   "id": "36e7037b",
   "metadata": {},
   "outputs": [
    {
     "data": {
      "text/plain": [
       "Customer_id        int64\n",
       "Gender            object\n",
       "Booking_date      object\n",
       "Booking_time      object\n",
       "Pickup_address    object\n",
       "Pickup_time       object\n",
       "Drop_time         object\n",
       "Drop_address      object\n",
       "Cost               int64\n",
       "Month              int64\n",
       "Date               int64\n",
       "Hour               int64\n",
       "dtype: object"
      ]
     },
     "execution_count": 6,
     "metadata": {},
     "output_type": "execute_result"
    }
   ],
   "source": [
    "df.dtypes"
   ]
  },
  {
   "cell_type": "code",
   "execution_count": 7,
   "id": "dc9d7a3b",
   "metadata": {},
   "outputs": [
    {
     "data": {
      "text/plain": [
       "(61000, 12)"
      ]
     },
     "execution_count": 7,
     "metadata": {},
     "output_type": "execute_result"
    }
   ],
   "source": [
    "df.shape"
   ]
  },
  {
   "cell_type": "code",
   "execution_count": 8,
   "id": "cd4f2328",
   "metadata": {},
   "outputs": [],
   "source": [
    "import datetime\n"
   ]
  },
  {
   "cell_type": "code",
   "execution_count": 9,
   "id": "233b1ce8",
   "metadata": {},
   "outputs": [
    {
     "data": {
      "text/plain": [
       "'07:33:28.358151'"
      ]
     },
     "execution_count": 9,
     "metadata": {},
     "output_type": "execute_result"
    }
   ],
   "source": [
    "df['Booking_time'][0].split(',')[0]"
   ]
  },
  {
   "cell_type": "code",
   "execution_count": 10,
   "id": "2983217d",
   "metadata": {},
   "outputs": [],
   "source": [
    "def convert_to_time(col_val):\n",
    "    return datetime.datetime.strptime(col_val.split('.')[0], '%H:%M:%S')\n",
    "    "
   ]
  },
  {
   "cell_type": "code",
   "execution_count": 11,
   "id": "924d4445",
   "metadata": {},
   "outputs": [],
   "source": [
    "df['Booking_time_dt'] = df['Booking_time'].apply(convert_to_time)\n",
    "df['Pickup_time_dt'] = df['Pickup_time'].apply(convert_to_time)\n",
    "df['Drop_time_dt'] = df['Drop_time'].apply(convert_to_time)"
   ]
  },
  {
   "cell_type": "code",
   "execution_count": 12,
   "id": "8ac588bf",
   "metadata": {},
   "outputs": [
    {
     "data": {
      "text/plain": [
       "pandas._libs.tslibs.timestamps.Timestamp"
      ]
     },
     "execution_count": 12,
     "metadata": {},
     "output_type": "execute_result"
    }
   ],
   "source": [
    "type(df['Booking_time_dt'][0])"
   ]
  },
  {
   "cell_type": "code",
   "execution_count": 13,
   "id": "278545aa",
   "metadata": {},
   "outputs": [],
   "source": [
    "df['book_vs_pick'] = (df['Pickup_time_dt'] - df['Booking_time_dt'])\n",
    "df['pick_vs_drop'] = (df['Drop_time_dt'] - df['Pickup_time_dt'])"
   ]
  },
  {
   "cell_type": "code",
   "execution_count": 14,
   "id": "637bb046",
   "metadata": {},
   "outputs": [],
   "source": [
    "def conv_to_min(x):\n",
    "    return x.total_seconds()/60"
   ]
  },
  {
   "cell_type": "code",
   "execution_count": 15,
   "id": "e67295f3",
   "metadata": {},
   "outputs": [],
   "source": [
    "df['pick_time_in_min'] = df['book_vs_pick'].apply(conv_to_min)\n",
    "df['travel_time_in_min'] = df['pick_vs_drop'].apply(conv_to_min)\n"
   ]
  },
  {
   "cell_type": "code",
   "execution_count": 16,
   "id": "ad663d44",
   "metadata": {},
   "outputs": [
    {
     "data": {
      "text/html": [
       "<div>\n",
       "<style scoped>\n",
       "    .dataframe tbody tr th:only-of-type {\n",
       "        vertical-align: middle;\n",
       "    }\n",
       "\n",
       "    .dataframe tbody tr th {\n",
       "        vertical-align: top;\n",
       "    }\n",
       "\n",
       "    .dataframe thead th {\n",
       "        text-align: right;\n",
       "    }\n",
       "</style>\n",
       "<table border=\"1\" class=\"dataframe\">\n",
       "  <thead>\n",
       "    <tr style=\"text-align: right;\">\n",
       "      <th></th>\n",
       "      <th>Customer_id</th>\n",
       "      <th>Gender</th>\n",
       "      <th>Booking_date</th>\n",
       "      <th>Booking_time</th>\n",
       "      <th>Pickup_address</th>\n",
       "      <th>Pickup_time</th>\n",
       "      <th>Drop_time</th>\n",
       "      <th>Drop_address</th>\n",
       "      <th>Cost</th>\n",
       "      <th>Month</th>\n",
       "      <th>Date</th>\n",
       "      <th>Hour</th>\n",
       "      <th>Booking_time_dt</th>\n",
       "      <th>Pickup_time_dt</th>\n",
       "      <th>Drop_time_dt</th>\n",
       "      <th>book_vs_pick</th>\n",
       "      <th>pick_vs_drop</th>\n",
       "      <th>pick_time_in_min</th>\n",
       "      <th>travel_time_in_min</th>\n",
       "    </tr>\n",
       "  </thead>\n",
       "  <tbody>\n",
       "    <tr>\n",
       "      <th>0</th>\n",
       "      <td>542</td>\n",
       "      <td>female</td>\n",
       "      <td>2022-04-01</td>\n",
       "      <td>07:33:28.358151</td>\n",
       "      <td>9545 Christopher Forges Apt. 866 New Sarah, SD...</td>\n",
       "      <td>07:38:28.358152</td>\n",
       "      <td>09:02:28.358152</td>\n",
       "      <td>48025 Michael Mountains Suite 257 North Donald...</td>\n",
       "      <td>300</td>\n",
       "      <td>4</td>\n",
       "      <td>1</td>\n",
       "      <td>7</td>\n",
       "      <td>1900-01-01 07:33:28</td>\n",
       "      <td>1900-01-01 07:38:28</td>\n",
       "      <td>1900-01-01 09:02:28</td>\n",
       "      <td>0 days 00:05:00</td>\n",
       "      <td>0 days 01:24:00</td>\n",
       "      <td>5.0</td>\n",
       "      <td>84.0</td>\n",
       "    </tr>\n",
       "    <tr>\n",
       "      <th>1</th>\n",
       "      <td>1000</td>\n",
       "      <td>male</td>\n",
       "      <td>2022-04-01</td>\n",
       "      <td>07:33:58.569815</td>\n",
       "      <td>13443 Kristen Meadow Suite 384 New Ashleymouth...</td>\n",
       "      <td>07:39:58.569817</td>\n",
       "      <td>09:29:58.569817</td>\n",
       "      <td>37100 Dominic Ports Suite 903 North Georgeside...</td>\n",
       "      <td>331</td>\n",
       "      <td>4</td>\n",
       "      <td>1</td>\n",
       "      <td>7</td>\n",
       "      <td>1900-01-01 07:33:58</td>\n",
       "      <td>1900-01-01 07:39:58</td>\n",
       "      <td>1900-01-01 09:29:58</td>\n",
       "      <td>0 days 00:06:00</td>\n",
       "      <td>0 days 01:50:00</td>\n",
       "      <td>6.0</td>\n",
       "      <td>110.0</td>\n",
       "    </tr>\n",
       "    <tr>\n",
       "      <th>2</th>\n",
       "      <td>733</td>\n",
       "      <td>female</td>\n",
       "      <td>2022-04-01</td>\n",
       "      <td>07:33:48.496508</td>\n",
       "      <td>68374 Anderson Harbor Apt. 037 North Victoriaf...</td>\n",
       "      <td>07:43:48.496510</td>\n",
       "      <td>09:40:48.496510</td>\n",
       "      <td>6109 Mckinney Light Apt. 875 Jamesburgh, DE 04041</td>\n",
       "      <td>385</td>\n",
       "      <td>4</td>\n",
       "      <td>1</td>\n",
       "      <td>7</td>\n",
       "      <td>1900-01-01 07:33:48</td>\n",
       "      <td>1900-01-01 07:43:48</td>\n",
       "      <td>1900-01-01 09:40:48</td>\n",
       "      <td>0 days 00:10:00</td>\n",
       "      <td>0 days 01:57:00</td>\n",
       "      <td>10.0</td>\n",
       "      <td>117.0</td>\n",
       "    </tr>\n",
       "    <tr>\n",
       "      <th>3</th>\n",
       "      <td>315</td>\n",
       "      <td>male</td>\n",
       "      <td>2022-04-01</td>\n",
       "      <td>07:33:48.511281</td>\n",
       "      <td>0412 Donna Stravenue Apt. 818 North Timothymou...</td>\n",
       "      <td>07:42:48.511282</td>\n",
       "      <td>09:32:48.511282</td>\n",
       "      <td>894 Cesar Extensions Apt. 008 North Travis, WV...</td>\n",
       "      <td>365</td>\n",
       "      <td>4</td>\n",
       "      <td>1</td>\n",
       "      <td>7</td>\n",
       "      <td>1900-01-01 07:33:48</td>\n",
       "      <td>1900-01-01 07:42:48</td>\n",
       "      <td>1900-01-01 09:32:48</td>\n",
       "      <td>0 days 00:09:00</td>\n",
       "      <td>0 days 01:50:00</td>\n",
       "      <td>9.0</td>\n",
       "      <td>110.0</td>\n",
       "    </tr>\n",
       "    <tr>\n",
       "      <th>4</th>\n",
       "      <td>590</td>\n",
       "      <td>female</td>\n",
       "      <td>2022-04-01</td>\n",
       "      <td>07:33:58.594846</td>\n",
       "      <td>657 Melissa Circles Suite 098 New Jamesborough...</td>\n",
       "      <td>07:43:58.594848</td>\n",
       "      <td>08:36:58.594848</td>\n",
       "      <td>47898 Kevin Alley Apt. 703 East Joshuastad, NJ...</td>\n",
       "      <td>213</td>\n",
       "      <td>4</td>\n",
       "      <td>1</td>\n",
       "      <td>7</td>\n",
       "      <td>1900-01-01 07:33:58</td>\n",
       "      <td>1900-01-01 07:43:58</td>\n",
       "      <td>1900-01-01 08:36:58</td>\n",
       "      <td>0 days 00:10:00</td>\n",
       "      <td>0 days 00:53:00</td>\n",
       "      <td>10.0</td>\n",
       "      <td>53.0</td>\n",
       "    </tr>\n",
       "  </tbody>\n",
       "</table>\n",
       "</div>"
      ],
      "text/plain": [
       "   Customer_id  Gender Booking_date     Booking_time  \\\n",
       "0          542  female   2022-04-01  07:33:28.358151   \n",
       "1         1000    male   2022-04-01  07:33:58.569815   \n",
       "2          733  female   2022-04-01  07:33:48.496508   \n",
       "3          315    male   2022-04-01  07:33:48.511281   \n",
       "4          590  female   2022-04-01  07:33:58.594846   \n",
       "\n",
       "                                      Pickup_address      Pickup_time  \\\n",
       "0  9545 Christopher Forges Apt. 866 New Sarah, SD...  07:38:28.358152   \n",
       "1  13443 Kristen Meadow Suite 384 New Ashleymouth...  07:39:58.569817   \n",
       "2  68374 Anderson Harbor Apt. 037 North Victoriaf...  07:43:48.496510   \n",
       "3  0412 Donna Stravenue Apt. 818 North Timothymou...  07:42:48.511282   \n",
       "4  657 Melissa Circles Suite 098 New Jamesborough...  07:43:58.594848   \n",
       "\n",
       "         Drop_time                                       Drop_address  Cost  \\\n",
       "0  09:02:28.358152  48025 Michael Mountains Suite 257 North Donald...   300   \n",
       "1  09:29:58.569817  37100 Dominic Ports Suite 903 North Georgeside...   331   \n",
       "2  09:40:48.496510  6109 Mckinney Light Apt. 875 Jamesburgh, DE 04041   385   \n",
       "3  09:32:48.511282  894 Cesar Extensions Apt. 008 North Travis, WV...   365   \n",
       "4  08:36:58.594848  47898 Kevin Alley Apt. 703 East Joshuastad, NJ...   213   \n",
       "\n",
       "   Month  Date  Hour     Booking_time_dt      Pickup_time_dt  \\\n",
       "0      4     1     7 1900-01-01 07:33:28 1900-01-01 07:38:28   \n",
       "1      4     1     7 1900-01-01 07:33:58 1900-01-01 07:39:58   \n",
       "2      4     1     7 1900-01-01 07:33:48 1900-01-01 07:43:48   \n",
       "3      4     1     7 1900-01-01 07:33:48 1900-01-01 07:42:48   \n",
       "4      4     1     7 1900-01-01 07:33:58 1900-01-01 07:43:58   \n",
       "\n",
       "         Drop_time_dt    book_vs_pick    pick_vs_drop  pick_time_in_min  \\\n",
       "0 1900-01-01 09:02:28 0 days 00:05:00 0 days 01:24:00               5.0   \n",
       "1 1900-01-01 09:29:58 0 days 00:06:00 0 days 01:50:00               6.0   \n",
       "2 1900-01-01 09:40:48 0 days 00:10:00 0 days 01:57:00              10.0   \n",
       "3 1900-01-01 09:32:48 0 days 00:09:00 0 days 01:50:00               9.0   \n",
       "4 1900-01-01 08:36:58 0 days 00:10:00 0 days 00:53:00              10.0   \n",
       "\n",
       "   travel_time_in_min  \n",
       "0                84.0  \n",
       "1               110.0  \n",
       "2               117.0  \n",
       "3               110.0  \n",
       "4                53.0  "
      ]
     },
     "execution_count": 16,
     "metadata": {},
     "output_type": "execute_result"
    }
   ],
   "source": [
    "df.head()"
   ]
  },
  {
   "cell_type": "code",
   "execution_count": 17,
   "id": "61e8783a",
   "metadata": {},
   "outputs": [
    {
     "data": {
      "text/plain": [
       "Index(['Customer_id', 'Gender', 'Booking_date', 'Booking_time',\n",
       "       'Pickup_address', 'Pickup_time', 'Drop_time', 'Drop_address', 'Cost',\n",
       "       'Month', 'Date', 'Hour', 'Booking_time_dt', 'Pickup_time_dt',\n",
       "       'Drop_time_dt', 'book_vs_pick', 'pick_vs_drop', 'pick_time_in_min',\n",
       "       'travel_time_in_min'],\n",
       "      dtype='object')"
      ]
     },
     "execution_count": 17,
     "metadata": {},
     "output_type": "execute_result"
    }
   ],
   "source": [
    "df.columns"
   ]
  },
  {
   "cell_type": "code",
   "execution_count": 18,
   "id": "4043b8f7",
   "metadata": {},
   "outputs": [],
   "source": [
    "df_final = df.drop(['Booking_time','Pickup_time','Drop_time','Booking_time_dt', 'Pickup_time_dt',\n",
    "       'Drop_time_dt', 'book_vs_pick', 'pick_vs_drop'],axis=1)"
   ]
  },
  {
   "cell_type": "code",
   "execution_count": 19,
   "id": "f3eec8f8",
   "metadata": {},
   "outputs": [
    {
     "data": {
      "text/html": [
       "<div>\n",
       "<style scoped>\n",
       "    .dataframe tbody tr th:only-of-type {\n",
       "        vertical-align: middle;\n",
       "    }\n",
       "\n",
       "    .dataframe tbody tr th {\n",
       "        vertical-align: top;\n",
       "    }\n",
       "\n",
       "    .dataframe thead th {\n",
       "        text-align: right;\n",
       "    }\n",
       "</style>\n",
       "<table border=\"1\" class=\"dataframe\">\n",
       "  <thead>\n",
       "    <tr style=\"text-align: right;\">\n",
       "      <th></th>\n",
       "      <th>Customer_id</th>\n",
       "      <th>Gender</th>\n",
       "      <th>Booking_date</th>\n",
       "      <th>Pickup_address</th>\n",
       "      <th>Drop_address</th>\n",
       "      <th>Cost</th>\n",
       "      <th>Month</th>\n",
       "      <th>Date</th>\n",
       "      <th>Hour</th>\n",
       "      <th>pick_time_in_min</th>\n",
       "      <th>travel_time_in_min</th>\n",
       "    </tr>\n",
       "  </thead>\n",
       "  <tbody>\n",
       "    <tr>\n",
       "      <th>0</th>\n",
       "      <td>542</td>\n",
       "      <td>female</td>\n",
       "      <td>2022-04-01</td>\n",
       "      <td>9545 Christopher Forges Apt. 866 New Sarah, SD...</td>\n",
       "      <td>48025 Michael Mountains Suite 257 North Donald...</td>\n",
       "      <td>300</td>\n",
       "      <td>4</td>\n",
       "      <td>1</td>\n",
       "      <td>7</td>\n",
       "      <td>5.0</td>\n",
       "      <td>84.0</td>\n",
       "    </tr>\n",
       "    <tr>\n",
       "      <th>1</th>\n",
       "      <td>1000</td>\n",
       "      <td>male</td>\n",
       "      <td>2022-04-01</td>\n",
       "      <td>13443 Kristen Meadow Suite 384 New Ashleymouth...</td>\n",
       "      <td>37100 Dominic Ports Suite 903 North Georgeside...</td>\n",
       "      <td>331</td>\n",
       "      <td>4</td>\n",
       "      <td>1</td>\n",
       "      <td>7</td>\n",
       "      <td>6.0</td>\n",
       "      <td>110.0</td>\n",
       "    </tr>\n",
       "    <tr>\n",
       "      <th>2</th>\n",
       "      <td>733</td>\n",
       "      <td>female</td>\n",
       "      <td>2022-04-01</td>\n",
       "      <td>68374 Anderson Harbor Apt. 037 North Victoriaf...</td>\n",
       "      <td>6109 Mckinney Light Apt. 875 Jamesburgh, DE 04041</td>\n",
       "      <td>385</td>\n",
       "      <td>4</td>\n",
       "      <td>1</td>\n",
       "      <td>7</td>\n",
       "      <td>10.0</td>\n",
       "      <td>117.0</td>\n",
       "    </tr>\n",
       "    <tr>\n",
       "      <th>3</th>\n",
       "      <td>315</td>\n",
       "      <td>male</td>\n",
       "      <td>2022-04-01</td>\n",
       "      <td>0412 Donna Stravenue Apt. 818 North Timothymou...</td>\n",
       "      <td>894 Cesar Extensions Apt. 008 North Travis, WV...</td>\n",
       "      <td>365</td>\n",
       "      <td>4</td>\n",
       "      <td>1</td>\n",
       "      <td>7</td>\n",
       "      <td>9.0</td>\n",
       "      <td>110.0</td>\n",
       "    </tr>\n",
       "    <tr>\n",
       "      <th>4</th>\n",
       "      <td>590</td>\n",
       "      <td>female</td>\n",
       "      <td>2022-04-01</td>\n",
       "      <td>657 Melissa Circles Suite 098 New Jamesborough...</td>\n",
       "      <td>47898 Kevin Alley Apt. 703 East Joshuastad, NJ...</td>\n",
       "      <td>213</td>\n",
       "      <td>4</td>\n",
       "      <td>1</td>\n",
       "      <td>7</td>\n",
       "      <td>10.0</td>\n",
       "      <td>53.0</td>\n",
       "    </tr>\n",
       "  </tbody>\n",
       "</table>\n",
       "</div>"
      ],
      "text/plain": [
       "   Customer_id  Gender Booking_date  \\\n",
       "0          542  female   2022-04-01   \n",
       "1         1000    male   2022-04-01   \n",
       "2          733  female   2022-04-01   \n",
       "3          315    male   2022-04-01   \n",
       "4          590  female   2022-04-01   \n",
       "\n",
       "                                      Pickup_address  \\\n",
       "0  9545 Christopher Forges Apt. 866 New Sarah, SD...   \n",
       "1  13443 Kristen Meadow Suite 384 New Ashleymouth...   \n",
       "2  68374 Anderson Harbor Apt. 037 North Victoriaf...   \n",
       "3  0412 Donna Stravenue Apt. 818 North Timothymou...   \n",
       "4  657 Melissa Circles Suite 098 New Jamesborough...   \n",
       "\n",
       "                                        Drop_address  Cost  Month  Date  Hour  \\\n",
       "0  48025 Michael Mountains Suite 257 North Donald...   300      4     1     7   \n",
       "1  37100 Dominic Ports Suite 903 North Georgeside...   331      4     1     7   \n",
       "2  6109 Mckinney Light Apt. 875 Jamesburgh, DE 04041   385      4     1     7   \n",
       "3  894 Cesar Extensions Apt. 008 North Travis, WV...   365      4     1     7   \n",
       "4  47898 Kevin Alley Apt. 703 East Joshuastad, NJ...   213      4     1     7   \n",
       "\n",
       "   pick_time_in_min  travel_time_in_min  \n",
       "0               5.0                84.0  \n",
       "1               6.0               110.0  \n",
       "2              10.0               117.0  \n",
       "3               9.0               110.0  \n",
       "4              10.0                53.0  "
      ]
     },
     "execution_count": 19,
     "metadata": {},
     "output_type": "execute_result"
    }
   ],
   "source": [
    "df_final.head()"
   ]
  },
  {
   "cell_type": "code",
   "execution_count": 39,
   "id": "c9ee0874",
   "metadata": {},
   "outputs": [],
   "source": [
    "\n",
    "\n",
    "bins = [4,7,9,11,13,15]\n",
    "\n",
    "slots = [\"5 to 7 mins\",\"7 to 9 mins\",\"9 to 11 mins\",\"11 to 13 mins\",\"13 to 15 mins\"]\n",
    "\n",
    "df_final['pick_time_cat'] = pd.cut(df_final['pick_time_in_min'], bins=bins, labels=slots)"
   ]
  },
  {
   "cell_type": "code",
   "execution_count": 40,
   "id": "a9e3908f",
   "metadata": {},
   "outputs": [
    {
     "data": {
      "text/html": [
       "<div>\n",
       "<style scoped>\n",
       "    .dataframe tbody tr th:only-of-type {\n",
       "        vertical-align: middle;\n",
       "    }\n",
       "\n",
       "    .dataframe tbody tr th {\n",
       "        vertical-align: top;\n",
       "    }\n",
       "\n",
       "    .dataframe thead th {\n",
       "        text-align: right;\n",
       "    }\n",
       "</style>\n",
       "<table border=\"1\" class=\"dataframe\">\n",
       "  <thead>\n",
       "    <tr style=\"text-align: right;\">\n",
       "      <th></th>\n",
       "      <th>Customer_id</th>\n",
       "      <th>Gender</th>\n",
       "      <th>Booking_date</th>\n",
       "      <th>Pickup_address</th>\n",
       "      <th>Drop_address</th>\n",
       "      <th>Cost</th>\n",
       "      <th>Month</th>\n",
       "      <th>Date</th>\n",
       "      <th>Hour</th>\n",
       "      <th>pick_time_in_min</th>\n",
       "      <th>travel_time_in_min</th>\n",
       "      <th>pick_time_cat</th>\n",
       "    </tr>\n",
       "  </thead>\n",
       "  <tbody>\n",
       "    <tr>\n",
       "      <th>0</th>\n",
       "      <td>542</td>\n",
       "      <td>0</td>\n",
       "      <td>2022-04-01</td>\n",
       "      <td>9545 Christopher Forges Apt. 866 New Sarah, SD...</td>\n",
       "      <td>48025 Michael Mountains Suite 257 North Donald...</td>\n",
       "      <td>300</td>\n",
       "      <td>4</td>\n",
       "      <td>1</td>\n",
       "      <td>7</td>\n",
       "      <td>5.0</td>\n",
       "      <td>84.0</td>\n",
       "      <td>5 to 7 mins</td>\n",
       "    </tr>\n",
       "    <tr>\n",
       "      <th>1</th>\n",
       "      <td>1000</td>\n",
       "      <td>1</td>\n",
       "      <td>2022-04-01</td>\n",
       "      <td>13443 Kristen Meadow Suite 384 New Ashleymouth...</td>\n",
       "      <td>37100 Dominic Ports Suite 903 North Georgeside...</td>\n",
       "      <td>331</td>\n",
       "      <td>4</td>\n",
       "      <td>1</td>\n",
       "      <td>7</td>\n",
       "      <td>6.0</td>\n",
       "      <td>110.0</td>\n",
       "      <td>5 to 7 mins</td>\n",
       "    </tr>\n",
       "    <tr>\n",
       "      <th>2</th>\n",
       "      <td>733</td>\n",
       "      <td>0</td>\n",
       "      <td>2022-04-01</td>\n",
       "      <td>68374 Anderson Harbor Apt. 037 North Victoriaf...</td>\n",
       "      <td>6109 Mckinney Light Apt. 875 Jamesburgh, DE 04041</td>\n",
       "      <td>385</td>\n",
       "      <td>4</td>\n",
       "      <td>1</td>\n",
       "      <td>7</td>\n",
       "      <td>10.0</td>\n",
       "      <td>117.0</td>\n",
       "      <td>9 to 11 mins</td>\n",
       "    </tr>\n",
       "    <tr>\n",
       "      <th>3</th>\n",
       "      <td>315</td>\n",
       "      <td>1</td>\n",
       "      <td>2022-04-01</td>\n",
       "      <td>0412 Donna Stravenue Apt. 818 North Timothymou...</td>\n",
       "      <td>894 Cesar Extensions Apt. 008 North Travis, WV...</td>\n",
       "      <td>365</td>\n",
       "      <td>4</td>\n",
       "      <td>1</td>\n",
       "      <td>7</td>\n",
       "      <td>9.0</td>\n",
       "      <td>110.0</td>\n",
       "      <td>7 to 9 mins</td>\n",
       "    </tr>\n",
       "    <tr>\n",
       "      <th>4</th>\n",
       "      <td>590</td>\n",
       "      <td>0</td>\n",
       "      <td>2022-04-01</td>\n",
       "      <td>657 Melissa Circles Suite 098 New Jamesborough...</td>\n",
       "      <td>47898 Kevin Alley Apt. 703 East Joshuastad, NJ...</td>\n",
       "      <td>213</td>\n",
       "      <td>4</td>\n",
       "      <td>1</td>\n",
       "      <td>7</td>\n",
       "      <td>10.0</td>\n",
       "      <td>53.0</td>\n",
       "      <td>9 to 11 mins</td>\n",
       "    </tr>\n",
       "  </tbody>\n",
       "</table>\n",
       "</div>"
      ],
      "text/plain": [
       "   Customer_id  Gender Booking_date  \\\n",
       "0          542       0   2022-04-01   \n",
       "1         1000       1   2022-04-01   \n",
       "2          733       0   2022-04-01   \n",
       "3          315       1   2022-04-01   \n",
       "4          590       0   2022-04-01   \n",
       "\n",
       "                                      Pickup_address  \\\n",
       "0  9545 Christopher Forges Apt. 866 New Sarah, SD...   \n",
       "1  13443 Kristen Meadow Suite 384 New Ashleymouth...   \n",
       "2  68374 Anderson Harbor Apt. 037 North Victoriaf...   \n",
       "3  0412 Donna Stravenue Apt. 818 North Timothymou...   \n",
       "4  657 Melissa Circles Suite 098 New Jamesborough...   \n",
       "\n",
       "                                        Drop_address  Cost  Month  Date  Hour  \\\n",
       "0  48025 Michael Mountains Suite 257 North Donald...   300      4     1     7   \n",
       "1  37100 Dominic Ports Suite 903 North Georgeside...   331      4     1     7   \n",
       "2  6109 Mckinney Light Apt. 875 Jamesburgh, DE 04041   385      4     1     7   \n",
       "3  894 Cesar Extensions Apt. 008 North Travis, WV...   365      4     1     7   \n",
       "4  47898 Kevin Alley Apt. 703 East Joshuastad, NJ...   213      4     1     7   \n",
       "\n",
       "   pick_time_in_min  travel_time_in_min pick_time_cat  \n",
       "0               5.0                84.0   5 to 7 mins  \n",
       "1               6.0               110.0   5 to 7 mins  \n",
       "2              10.0               117.0  9 to 11 mins  \n",
       "3               9.0               110.0   7 to 9 mins  \n",
       "4              10.0                53.0  9 to 11 mins  "
      ]
     },
     "execution_count": 40,
     "metadata": {},
     "output_type": "execute_result"
    }
   ],
   "source": [
    "df_final.head()"
   ]
  },
  {
   "cell_type": "code",
   "execution_count": 42,
   "id": "127f94d5",
   "metadata": {},
   "outputs": [],
   "source": [
    "# df_final.isnull().sum()"
   ]
  },
  {
   "cell_type": "code",
   "execution_count": 20,
   "id": "96c0aeff",
   "metadata": {},
   "outputs": [],
   "source": [
    "df_final.to_csv('final_table.csv')"
   ]
  },
  {
   "cell_type": "code",
   "execution_count": 43,
   "id": "bd34ed05",
   "metadata": {},
   "outputs": [],
   "source": [
    "bins = [14,30,45,60,75,90,105,120]\n",
    "\n",
    "slots = [\"15 to 30 mins\",\"40 to 45 mins\",\"45 to 60 mins\",\"60 to 75 mins\",\"75 to 90 mins\",\"90 to 105 mins\",\"105 to 120 mins\"]\n",
    "\n",
    "df_final['travel_time_cat'] = pd.cut(df_final['travel_time_in_min'], bins=bins, labels=slots)"
   ]
  },
  {
   "cell_type": "code",
   "execution_count": 44,
   "id": "4073fc08",
   "metadata": {},
   "outputs": [
    {
     "data": {
      "text/html": [
       "<div>\n",
       "<style scoped>\n",
       "    .dataframe tbody tr th:only-of-type {\n",
       "        vertical-align: middle;\n",
       "    }\n",
       "\n",
       "    .dataframe tbody tr th {\n",
       "        vertical-align: top;\n",
       "    }\n",
       "\n",
       "    .dataframe thead th {\n",
       "        text-align: right;\n",
       "    }\n",
       "</style>\n",
       "<table border=\"1\" class=\"dataframe\">\n",
       "  <thead>\n",
       "    <tr style=\"text-align: right;\">\n",
       "      <th></th>\n",
       "      <th>Customer_id</th>\n",
       "      <th>Gender</th>\n",
       "      <th>Booking_date</th>\n",
       "      <th>Pickup_address</th>\n",
       "      <th>Drop_address</th>\n",
       "      <th>Cost</th>\n",
       "      <th>Month</th>\n",
       "      <th>Date</th>\n",
       "      <th>Hour</th>\n",
       "      <th>pick_time_in_min</th>\n",
       "      <th>travel_time_in_min</th>\n",
       "      <th>pick_time_cat</th>\n",
       "      <th>travel_time_cat</th>\n",
       "    </tr>\n",
       "  </thead>\n",
       "  <tbody>\n",
       "    <tr>\n",
       "      <th>0</th>\n",
       "      <td>542</td>\n",
       "      <td>0</td>\n",
       "      <td>2022-04-01</td>\n",
       "      <td>9545 Christopher Forges Apt. 866 New Sarah, SD...</td>\n",
       "      <td>48025 Michael Mountains Suite 257 North Donald...</td>\n",
       "      <td>300</td>\n",
       "      <td>4</td>\n",
       "      <td>1</td>\n",
       "      <td>7</td>\n",
       "      <td>5.0</td>\n",
       "      <td>84.0</td>\n",
       "      <td>5 to 7 mins</td>\n",
       "      <td>75 to 90 mins</td>\n",
       "    </tr>\n",
       "    <tr>\n",
       "      <th>1</th>\n",
       "      <td>1000</td>\n",
       "      <td>1</td>\n",
       "      <td>2022-04-01</td>\n",
       "      <td>13443 Kristen Meadow Suite 384 New Ashleymouth...</td>\n",
       "      <td>37100 Dominic Ports Suite 903 North Georgeside...</td>\n",
       "      <td>331</td>\n",
       "      <td>4</td>\n",
       "      <td>1</td>\n",
       "      <td>7</td>\n",
       "      <td>6.0</td>\n",
       "      <td>110.0</td>\n",
       "      <td>5 to 7 mins</td>\n",
       "      <td>105 to 120 mins</td>\n",
       "    </tr>\n",
       "    <tr>\n",
       "      <th>2</th>\n",
       "      <td>733</td>\n",
       "      <td>0</td>\n",
       "      <td>2022-04-01</td>\n",
       "      <td>68374 Anderson Harbor Apt. 037 North Victoriaf...</td>\n",
       "      <td>6109 Mckinney Light Apt. 875 Jamesburgh, DE 04041</td>\n",
       "      <td>385</td>\n",
       "      <td>4</td>\n",
       "      <td>1</td>\n",
       "      <td>7</td>\n",
       "      <td>10.0</td>\n",
       "      <td>117.0</td>\n",
       "      <td>9 to 11 mins</td>\n",
       "      <td>105 to 120 mins</td>\n",
       "    </tr>\n",
       "    <tr>\n",
       "      <th>3</th>\n",
       "      <td>315</td>\n",
       "      <td>1</td>\n",
       "      <td>2022-04-01</td>\n",
       "      <td>0412 Donna Stravenue Apt. 818 North Timothymou...</td>\n",
       "      <td>894 Cesar Extensions Apt. 008 North Travis, WV...</td>\n",
       "      <td>365</td>\n",
       "      <td>4</td>\n",
       "      <td>1</td>\n",
       "      <td>7</td>\n",
       "      <td>9.0</td>\n",
       "      <td>110.0</td>\n",
       "      <td>7 to 9 mins</td>\n",
       "      <td>105 to 120 mins</td>\n",
       "    </tr>\n",
       "    <tr>\n",
       "      <th>4</th>\n",
       "      <td>590</td>\n",
       "      <td>0</td>\n",
       "      <td>2022-04-01</td>\n",
       "      <td>657 Melissa Circles Suite 098 New Jamesborough...</td>\n",
       "      <td>47898 Kevin Alley Apt. 703 East Joshuastad, NJ...</td>\n",
       "      <td>213</td>\n",
       "      <td>4</td>\n",
       "      <td>1</td>\n",
       "      <td>7</td>\n",
       "      <td>10.0</td>\n",
       "      <td>53.0</td>\n",
       "      <td>9 to 11 mins</td>\n",
       "      <td>45 to 60 mins</td>\n",
       "    </tr>\n",
       "  </tbody>\n",
       "</table>\n",
       "</div>"
      ],
      "text/plain": [
       "   Customer_id  Gender Booking_date  \\\n",
       "0          542       0   2022-04-01   \n",
       "1         1000       1   2022-04-01   \n",
       "2          733       0   2022-04-01   \n",
       "3          315       1   2022-04-01   \n",
       "4          590       0   2022-04-01   \n",
       "\n",
       "                                      Pickup_address  \\\n",
       "0  9545 Christopher Forges Apt. 866 New Sarah, SD...   \n",
       "1  13443 Kristen Meadow Suite 384 New Ashleymouth...   \n",
       "2  68374 Anderson Harbor Apt. 037 North Victoriaf...   \n",
       "3  0412 Donna Stravenue Apt. 818 North Timothymou...   \n",
       "4  657 Melissa Circles Suite 098 New Jamesborough...   \n",
       "\n",
       "                                        Drop_address  Cost  Month  Date  Hour  \\\n",
       "0  48025 Michael Mountains Suite 257 North Donald...   300      4     1     7   \n",
       "1  37100 Dominic Ports Suite 903 North Georgeside...   331      4     1     7   \n",
       "2  6109 Mckinney Light Apt. 875 Jamesburgh, DE 04041   385      4     1     7   \n",
       "3  894 Cesar Extensions Apt. 008 North Travis, WV...   365      4     1     7   \n",
       "4  47898 Kevin Alley Apt. 703 East Joshuastad, NJ...   213      4     1     7   \n",
       "\n",
       "   pick_time_in_min  travel_time_in_min pick_time_cat  travel_time_cat  \n",
       "0               5.0                84.0   5 to 7 mins    75 to 90 mins  \n",
       "1               6.0               110.0   5 to 7 mins  105 to 120 mins  \n",
       "2              10.0               117.0  9 to 11 mins  105 to 120 mins  \n",
       "3               9.0               110.0   7 to 9 mins  105 to 120 mins  \n",
       "4              10.0                53.0  9 to 11 mins    45 to 60 mins  "
      ]
     },
     "execution_count": 44,
     "metadata": {},
     "output_type": "execute_result"
    }
   ],
   "source": [
    "df_final.head()"
   ]
  },
  {
   "cell_type": "code",
   "execution_count": 45,
   "id": "f920fe94",
   "metadata": {},
   "outputs": [],
   "source": [
    "import boto3\n",
    "\n",
    "s3 = boto3.resource('s3')\n",
    "BUCKET = \"deloitte-case-study-2-group-3-processed\"\n",
    "\n",
    "s3.Bucket(BUCKET).upload_file(\"final_table.csv\", \"final_table_for_visual.csv\")"
   ]
  },
  {
   "cell_type": "code",
   "execution_count": 23,
   "id": "afae296d",
   "metadata": {},
   "outputs": [],
   "source": [
    "gender_map = {\n",
    "    'female':0,\n",
    "    'male':1\n",
    "}"
   ]
  },
  {
   "cell_type": "code",
   "execution_count": 24,
   "id": "d4f7ca34",
   "metadata": {},
   "outputs": [],
   "source": [
    "df_final['Gender'] = df_final['Gender'].map(gender_map)"
   ]
  },
  {
   "cell_type": "code",
   "execution_count": 25,
   "id": "4660ac77",
   "metadata": {},
   "outputs": [
    {
     "data": {
      "text/html": [
       "<div>\n",
       "<style scoped>\n",
       "    .dataframe tbody tr th:only-of-type {\n",
       "        vertical-align: middle;\n",
       "    }\n",
       "\n",
       "    .dataframe tbody tr th {\n",
       "        vertical-align: top;\n",
       "    }\n",
       "\n",
       "    .dataframe thead th {\n",
       "        text-align: right;\n",
       "    }\n",
       "</style>\n",
       "<table border=\"1\" class=\"dataframe\">\n",
       "  <thead>\n",
       "    <tr style=\"text-align: right;\">\n",
       "      <th></th>\n",
       "      <th>Customer_id</th>\n",
       "      <th>Gender</th>\n",
       "      <th>Booking_date</th>\n",
       "      <th>Pickup_address</th>\n",
       "      <th>Drop_address</th>\n",
       "      <th>Cost</th>\n",
       "      <th>Month</th>\n",
       "      <th>Date</th>\n",
       "      <th>Hour</th>\n",
       "      <th>pick_time_in_min</th>\n",
       "      <th>travel_time_in_min</th>\n",
       "    </tr>\n",
       "  </thead>\n",
       "  <tbody>\n",
       "    <tr>\n",
       "      <th>0</th>\n",
       "      <td>542</td>\n",
       "      <td>0</td>\n",
       "      <td>2022-04-01</td>\n",
       "      <td>9545 Christopher Forges Apt. 866 New Sarah, SD...</td>\n",
       "      <td>48025 Michael Mountains Suite 257 North Donald...</td>\n",
       "      <td>300</td>\n",
       "      <td>4</td>\n",
       "      <td>1</td>\n",
       "      <td>7</td>\n",
       "      <td>5.0</td>\n",
       "      <td>84.0</td>\n",
       "    </tr>\n",
       "    <tr>\n",
       "      <th>1</th>\n",
       "      <td>1000</td>\n",
       "      <td>1</td>\n",
       "      <td>2022-04-01</td>\n",
       "      <td>13443 Kristen Meadow Suite 384 New Ashleymouth...</td>\n",
       "      <td>37100 Dominic Ports Suite 903 North Georgeside...</td>\n",
       "      <td>331</td>\n",
       "      <td>4</td>\n",
       "      <td>1</td>\n",
       "      <td>7</td>\n",
       "      <td>6.0</td>\n",
       "      <td>110.0</td>\n",
       "    </tr>\n",
       "    <tr>\n",
       "      <th>2</th>\n",
       "      <td>733</td>\n",
       "      <td>0</td>\n",
       "      <td>2022-04-01</td>\n",
       "      <td>68374 Anderson Harbor Apt. 037 North Victoriaf...</td>\n",
       "      <td>6109 Mckinney Light Apt. 875 Jamesburgh, DE 04041</td>\n",
       "      <td>385</td>\n",
       "      <td>4</td>\n",
       "      <td>1</td>\n",
       "      <td>7</td>\n",
       "      <td>10.0</td>\n",
       "      <td>117.0</td>\n",
       "    </tr>\n",
       "    <tr>\n",
       "      <th>3</th>\n",
       "      <td>315</td>\n",
       "      <td>1</td>\n",
       "      <td>2022-04-01</td>\n",
       "      <td>0412 Donna Stravenue Apt. 818 North Timothymou...</td>\n",
       "      <td>894 Cesar Extensions Apt. 008 North Travis, WV...</td>\n",
       "      <td>365</td>\n",
       "      <td>4</td>\n",
       "      <td>1</td>\n",
       "      <td>7</td>\n",
       "      <td>9.0</td>\n",
       "      <td>110.0</td>\n",
       "    </tr>\n",
       "    <tr>\n",
       "      <th>4</th>\n",
       "      <td>590</td>\n",
       "      <td>0</td>\n",
       "      <td>2022-04-01</td>\n",
       "      <td>657 Melissa Circles Suite 098 New Jamesborough...</td>\n",
       "      <td>47898 Kevin Alley Apt. 703 East Joshuastad, NJ...</td>\n",
       "      <td>213</td>\n",
       "      <td>4</td>\n",
       "      <td>1</td>\n",
       "      <td>7</td>\n",
       "      <td>10.0</td>\n",
       "      <td>53.0</td>\n",
       "    </tr>\n",
       "  </tbody>\n",
       "</table>\n",
       "</div>"
      ],
      "text/plain": [
       "   Customer_id  Gender Booking_date  \\\n",
       "0          542       0   2022-04-01   \n",
       "1         1000       1   2022-04-01   \n",
       "2          733       0   2022-04-01   \n",
       "3          315       1   2022-04-01   \n",
       "4          590       0   2022-04-01   \n",
       "\n",
       "                                      Pickup_address  \\\n",
       "0  9545 Christopher Forges Apt. 866 New Sarah, SD...   \n",
       "1  13443 Kristen Meadow Suite 384 New Ashleymouth...   \n",
       "2  68374 Anderson Harbor Apt. 037 North Victoriaf...   \n",
       "3  0412 Donna Stravenue Apt. 818 North Timothymou...   \n",
       "4  657 Melissa Circles Suite 098 New Jamesborough...   \n",
       "\n",
       "                                        Drop_address  Cost  Month  Date  Hour  \\\n",
       "0  48025 Michael Mountains Suite 257 North Donald...   300      4     1     7   \n",
       "1  37100 Dominic Ports Suite 903 North Georgeside...   331      4     1     7   \n",
       "2  6109 Mckinney Light Apt. 875 Jamesburgh, DE 04041   385      4     1     7   \n",
       "3  894 Cesar Extensions Apt. 008 North Travis, WV...   365      4     1     7   \n",
       "4  47898 Kevin Alley Apt. 703 East Joshuastad, NJ...   213      4     1     7   \n",
       "\n",
       "   pick_time_in_min  travel_time_in_min  \n",
       "0               5.0                84.0  \n",
       "1               6.0               110.0  \n",
       "2              10.0               117.0  \n",
       "3               9.0               110.0  \n",
       "4              10.0                53.0  "
      ]
     },
     "execution_count": 25,
     "metadata": {},
     "output_type": "execute_result"
    }
   ],
   "source": [
    "df_final.head()"
   ]
  },
  {
   "cell_type": "code",
   "execution_count": 26,
   "id": "78b452c5",
   "metadata": {},
   "outputs": [
    {
     "data": {
      "text/plain": [
       "array([7, 8])"
      ]
     },
     "execution_count": 26,
     "metadata": {},
     "output_type": "execute_result"
    }
   ],
   "source": [
    "df_final['Hour'].unique()"
   ]
  },
  {
   "cell_type": "code",
   "execution_count": 30,
   "id": "329663db",
   "metadata": {},
   "outputs": [
    {
     "data": {
      "text/plain": [
       "(61000, 11)"
      ]
     },
     "execution_count": 30,
     "metadata": {},
     "output_type": "execute_result"
    }
   ],
   "source": [
    "df_final.shape"
   ]
  },
  {
   "cell_type": "code",
   "execution_count": 33,
   "id": "4202a28a",
   "metadata": {},
   "outputs": [],
   "source": [
    "loc_dict = {}\n",
    "count = 0\n",
    "for i in df_final['Pickup_address']:\n",
    "    if i not in loc_dict.keys():\n",
    "        loc_dict[i] = count\n",
    "        count += 1\n",
    "for i in df_final['Drop_address']:\n",
    "    if i not in loc_dict.keys():\n",
    "        loc_dict[i] = count\n",
    "        count += 1\n",
    "        "
   ]
  },
  {
   "cell_type": "code",
   "execution_count": 34,
   "id": "514b02df",
   "metadata": {},
   "outputs": [
    {
     "data": {
      "text/plain": [
       "122000"
      ]
     },
     "execution_count": 34,
     "metadata": {},
     "output_type": "execute_result"
    }
   ],
   "source": [
    "len(loc_dict)"
   ]
  },
  {
   "cell_type": "code",
   "execution_count": 47,
   "id": "abc8f620",
   "metadata": {},
   "outputs": [],
   "source": [
    "input_cols = df_final[['Gender','Hour','pick_time_in_min','travel_time_in_min']]"
   ]
  },
  {
   "cell_type": "code",
   "execution_count": 48,
   "id": "53e22372",
   "metadata": {},
   "outputs": [],
   "source": [
    "out_col = df_final['Cost']"
   ]
  },
  {
   "cell_type": "code",
   "execution_count": 51,
   "id": "dea18ae3",
   "metadata": {},
   "outputs": [],
   "source": [
    "# test train split\n",
    "\n",
    "input_train, input_test, output_train, output_test = train_test_split(input_cols,out_col,test_size=0.2)"
   ]
  },
  {
   "cell_type": "code",
   "execution_count": 52,
   "id": "e4eff783",
   "metadata": {},
   "outputs": [],
   "source": [
    "def model_evaluate(model):\n",
    "    m = model()\n",
    "    m.fit(input_train,output_train)\n",
    "    pred = m.predict(input_test)\n",
    "    return m,mean_absolute_error(pred,output_test),mean_squared_error(pred,output_test),r2_score(pred,output_test)"
   ]
  },
  {
   "cell_type": "code",
   "execution_count": 53,
   "id": "662ac147",
   "metadata": {},
   "outputs": [],
   "source": [
    "li = model_evaluate(LinearRegression)"
   ]
  },
  {
   "cell_type": "code",
   "execution_count": 54,
   "id": "7d774439",
   "metadata": {},
   "outputs": [
    {
     "data": {
      "text/plain": [
       "(LinearRegression(), 13.75248864142626, 251.53920974648886, 0.9690847162596475)"
      ]
     },
     "execution_count": 54,
     "metadata": {},
     "output_type": "execute_result"
    }
   ],
   "source": [
    "li"
   ]
  },
  {
   "cell_type": "code",
   "execution_count": 55,
   "id": "35cbdd76",
   "metadata": {},
   "outputs": [],
   "source": [
    "rid = model_evaluate(Ridge)"
   ]
  },
  {
   "cell_type": "code",
   "execution_count": 56,
   "id": "0636705b",
   "metadata": {},
   "outputs": [
    {
     "data": {
      "text/plain": [
       "(Ridge(), 13.752488635942978, 251.5392120413536, 0.9690847146162704)"
      ]
     },
     "execution_count": 56,
     "metadata": {},
     "output_type": "execute_result"
    }
   ],
   "source": [
    "rid"
   ]
  },
  {
   "cell_type": "code",
   "execution_count": 57,
   "id": "27d246ee",
   "metadata": {},
   "outputs": [],
   "source": [
    "las  = model_evaluate(Lasso)"
   ]
  },
  {
   "cell_type": "code",
   "execution_count": 58,
   "id": "a48c506a",
   "metadata": {},
   "outputs": [
    {
     "data": {
      "text/plain": [
       "(Lasso(), 13.75259999506322, 251.6140022178343, 0.9690530295638085)"
      ]
     },
     "execution_count": 58,
     "metadata": {},
     "output_type": "execute_result"
    }
   ],
   "source": [
    "las"
   ]
  },
  {
   "cell_type": "code",
   "execution_count": 59,
   "id": "b45adb64",
   "metadata": {},
   "outputs": [],
   "source": [
    "import pickle"
   ]
  },
  {
   "cell_type": "code",
   "execution_count": 61,
   "id": "5379a619",
   "metadata": {},
   "outputs": [],
   "source": [
    "pickle.dump(li[0],open('model.sav','wb'))"
   ]
  },
  {
   "cell_type": "code",
   "execution_count": 62,
   "id": "45c58ce9",
   "metadata": {},
   "outputs": [
    {
     "data": {
      "text/plain": [
       "array([267.89486683])"
      ]
     },
     "execution_count": 62,
     "metadata": {},
     "output_type": "execute_result"
    }
   ],
   "source": [
    "li[0].predict([[0,7,6,80]])"
   ]
  },
  {
   "cell_type": "code",
   "execution_count": 63,
   "id": "725b8a58",
   "metadata": {},
   "outputs": [],
   "source": [
    "# gender , time , picktime , travel time"
   ]
  },
  {
   "cell_type": "code",
   "execution_count": null,
   "id": "8bc9fbf5",
   "metadata": {},
   "outputs": [],
   "source": []
  }
 ],
 "metadata": {
  "kernelspec": {
   "display_name": "conda_python3",
   "language": "python",
   "name": "conda_python3"
  },
  "language_info": {
   "codemirror_mode": {
    "name": "ipython",
    "version": 3
   },
   "file_extension": ".py",
   "mimetype": "text/x-python",
   "name": "python",
   "nbconvert_exporter": "python",
   "pygments_lexer": "ipython3",
   "version": "3.6.13"
  }
 },
 "nbformat": 4,
 "nbformat_minor": 5
}
